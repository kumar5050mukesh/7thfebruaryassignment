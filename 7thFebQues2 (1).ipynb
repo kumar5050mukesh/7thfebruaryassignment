{
 "cells": [
  {
   "cell_type": "code",
   "execution_count": 20,
   "id": "d1976303-eb14-415d-a40b-2df9ed477cf2",
   "metadata": {},
   "outputs": [
    {
     "name": "stdin",
     "output_type": "stream",
     "text": [
      "enter the letter to check if the string starts with a particular letter m\n"
     ]
    },
    {
     "name": "stdout",
     "output_type": "stream",
     "text": [
      "True\n"
     ]
    }
   ],
   "source": [
    "# Check if the string starts with a particular letter\n",
    "input_letter=input('enter the letter to check if the string starts with a particular letter')\n",
    "msg='mukesh'\n",
    "z=( lambda :True if input_letter==msg[0] else False )\n",
    "print(z())\n"
   ]
  },
  {
   "cell_type": "code",
   "execution_count": 26,
   "id": "7e91e5f2-69d4-4c6f-b797-fe402921e900",
   "metadata": {},
   "outputs": [
    {
     "name": "stdin",
     "output_type": "stream",
     "text": [
      "enter the letter to check if the string starts with a particular letter:  789\n"
     ]
    },
    {
     "name": "stdout",
     "output_type": "stream",
     "text": [
      "True\n"
     ]
    }
   ],
   "source": [
    "# Check if the string is numeric\n",
    "input_letter = input('enter the letter to check if the string starts with a particular letter: ')\n",
    "\n",
    "\n",
    "z = lambda: (True if input_letter.isnumeric() else False)\n",
    "print(z())\n"
   ]
  },
  {
   "cell_type": "code",
   "execution_count": 53,
   "id": "e01af9a9-7442-4482-acc3-ec1aec82c8d5",
   "metadata": {},
   "outputs": [
    {
     "name": "stdout",
     "output_type": "stream",
     "text": [
      "[('grapes', 1000), ('mango', 99), ('orange', 80)]\n",
      "[('orange', 80), ('mango', 99), ('grapes', 1000)]\n"
     ]
    }
   ],
   "source": [
    "#Sort a list of tuples having fruit names and their quantity.\n",
    "list_ = dict([(\"mango\", 99), (\"orange\", 80), (\"grapes\", 1000)])\n",
    "#sorting according to keys\n",
    "y = sorted(list_.items(), key=lambda x: x[0])\n",
    "print(y)\n",
    "#sorting according to values\n",
    "z= sorted(list_.items(), key=lambda x: x[1])\n",
    "print(z)\n",
    "\n",
    "\n"
   ]
  },
  {
   "cell_type": "code",
   "execution_count": 81,
   "id": "f2cfeae5-3979-46a9-aa1d-8eeb7859f52f",
   "metadata": {},
   "outputs": [],
   "source": [
    "#Find the squares of numbers from 1 to 10\n",
    "\n",
    "u=list(range(1,11))\n",
    "z=list(map(lambda x: x**2 ,u))"
   ]
  },
  {
   "cell_type": "code",
   "execution_count": 82,
   "id": "77de2a74-f279-4db5-b109-b113a9c0a7f4",
   "metadata": {},
   "outputs": [
    {
     "name": "stdout",
     "output_type": "stream",
     "text": [
      "[1, 4, 9, 16, 25, 36, 49, 64, 81, 100]\n"
     ]
    }
   ],
   "source": [
    "print(z)"
   ]
  },
  {
   "cell_type": "code",
   "execution_count": 83,
   "id": "525b52f1-0b2e-4900-beb4-ee3198e94df7",
   "metadata": {},
   "outputs": [],
   "source": [
    "#Find the cube root of numbers from 1 to 10\n",
    "\n",
    "z=list(map(lambda x:x**1/3 ,list(range(1,11))))"
   ]
  },
  {
   "cell_type": "code",
   "execution_count": 84,
   "id": "4094b0ea-ad97-47b2-9c3d-c23e04a6a83f",
   "metadata": {},
   "outputs": [
    {
     "data": {
      "text/plain": [
       "[0.3333333333333333,\n",
       " 0.6666666666666666,\n",
       " 1.0,\n",
       " 1.3333333333333333,\n",
       " 1.6666666666666667,\n",
       " 2.0,\n",
       " 2.3333333333333335,\n",
       " 2.6666666666666665,\n",
       " 3.0,\n",
       " 3.3333333333333335]"
      ]
     },
     "execution_count": 84,
     "metadata": {},
     "output_type": "execute_result"
    }
   ],
   "source": [
    "z"
   ]
  },
  {
   "cell_type": "code",
   "execution_count": 95,
   "id": "0fdbfb39-cb2b-4734-b595-ab91b2a98b02",
   "metadata": {},
   "outputs": [
    {
     "name": "stdin",
     "output_type": "stream",
     "text": [
      "plz enter the number 89\n"
     ]
    },
    {
     "name": "stdout",
     "output_type": "stream",
     "text": [
      "False\n"
     ]
    }
   ],
   "source": [
    "#Check if a given number is even\n",
    "num=int(input('plz enter the number'))\n",
    "y=lambda x : True if x%2==0 else False\n",
    "print(y(num))"
   ]
  },
  {
   "cell_type": "code",
   "execution_count": 98,
   "id": "cdfdd84f-9efa-4556-96a9-2905c91704be",
   "metadata": {},
   "outputs": [],
   "source": [
    "#Filter odd numbers from\n",
    "list_=[1,2,3,4,5,6,7,8,9,10]\n",
    "y=filter( lambda x:  x%2 != 0,list_)"
   ]
  },
  {
   "cell_type": "code",
   "execution_count": 120,
   "id": "8b3cfb84-263a-4608-bdfd-c1bf311cc666",
   "metadata": {},
   "outputs": [
    {
     "name": "stdout",
     "output_type": "stream",
     "text": [
      "[-1, -2, -3, -4, -5]\n",
      "[1, 2, 3, 4, 5, 6, 0]\n"
     ]
    }
   ],
   "source": [
    "#Sort a list of integers into positive and negative integers lists.\n",
    "list_=[1,2,3,4,5,6,-1,-2,-3,-4,-5,0]\n",
    "z = []\n",
    "w = []\n",
    "\n",
    " \n",
    "list(filter(lambda x: z.append(x) if x < 0 else w.append(x), list_))\n",
    "\n",
    "print(z)\n",
    "print(w)\n"
   ]
  },
  {
   "cell_type": "code",
   "execution_count": null,
   "id": "462a4d41-90f6-4cc8-9ea0-3053849d8d4a",
   "metadata": {},
   "outputs": [],
   "source": []
  }
 ],
 "metadata": {
  "kernelspec": {
   "display_name": "Python 3 (ipykernel)",
   "language": "python",
   "name": "python3"
  },
  "language_info": {
   "codemirror_mode": {
    "name": "ipython",
    "version": 3
   },
   "file_extension": ".py",
   "mimetype": "text/x-python",
   "name": "python",
   "nbconvert_exporter": "python",
   "pygments_lexer": "ipython3",
   "version": "3.10.8"
  }
 },
 "nbformat": 4,
 "nbformat_minor": 5
}
