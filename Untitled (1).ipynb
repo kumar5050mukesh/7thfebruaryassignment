{
 "cells": [
  {
   "cell_type": "code",
   "execution_count": 5,
   "id": "fc8e6e72-be17-49ca-ac5d-60c2a6c6c03b",
   "metadata": {},
   "outputs": [
    {
     "name": "stdin",
     "output_type": "stream",
     "text": [
      "Enter the password:  muk@123\n"
     ]
    },
    {
     "name": "stdout",
     "output_type": "stream",
     "text": [
      "need at least 10 characters long.\n"
     ]
    }
   ],
   "source": [
    "'''Note: 1. The Password should contain at least two uppercase letters and at least two lowercase letters.\n",
    "2. The Password should contain at least a number and three special characters.\n",
    "3. The length of the password should be 10 characters long.'''\n",
    "\n",
    "password = input('Enter the password: ')\n",
    "\n",
    "\n",
    "if len(password) >= 10:\n",
    "    count_d = sum(i.isdigit() for i in password)\n",
    "    if count_d >= 1:\n",
    "        count_sc = sum(not i.isalnum() for i in password)\n",
    "        if count_sc >= 3:\n",
    "            count_uc = sum(i.isupper() for i in password)\n",
    "            if count_uc >= 2:\n",
    "                count_lc = sum(i.islower() for i in password)\n",
    "                if count_lc >= 2:\n",
    "                    print('Password is valid.')\n",
    "                else:\n",
    "                    print('need atleast 2 lowercase characters.')\n",
    "            else:\n",
    "                print('nedd at least 2 uppercase characters.')\n",
    "        else:\n",
    "            print('need least 3 special characters.')\n",
    "    else:\n",
    "        print('need 1 digit.')\n",
    "else:\n",
    "    print('need at least 10 characters long.')\n",
    "\n",
    "    \n",
    "    "
   ]
  },
  {
   "cell_type": "code",
   "execution_count": null,
   "id": "3f6b7914-3d6f-4033-90c3-4dce94df568e",
   "metadata": {},
   "outputs": [],
   "source": []
  }
 ],
 "metadata": {
  "kernelspec": {
   "display_name": "Python 3 (ipykernel)",
   "language": "python",
   "name": "python3"
  },
  "language_info": {
   "codemirror_mode": {
    "name": "ipython",
    "version": 3
   },
   "file_extension": ".py",
   "mimetype": "text/x-python",
   "name": "python",
   "nbconvert_exporter": "python",
   "pygments_lexer": "ipython3",
   "version": "3.10.8"
  }
 },
 "nbformat": 4,
 "nbformat_minor": 5
}
